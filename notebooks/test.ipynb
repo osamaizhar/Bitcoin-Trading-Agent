{
 "cells": [
  {
   "cell_type": "code",
   "execution_count": null,
   "id": "1f4d6848",
   "metadata": {},
   "outputs": [],
   "source": [
    "print(\"Hello, world!\")"
   ]
  }
 ],
 "metadata": {
  "kernelspec": {
   "display_name": "env",
   "language": "python",
   "name": "python3"
  },
  "language_info": {
   "name": "python",
   "version": "3.13.6"
  }
 },
 "nbformat": 4,
 "nbformat_minor": 5
}
